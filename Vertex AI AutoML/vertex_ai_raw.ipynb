{
  "cells": [
    {
      "attachments": {},
      "cell_type": "markdown",
      "metadata": {
        "id": "BKipBL0kWY7w"
      },
      "source": [
        "# Vertex AI Raw\n",
        "First, we're going to work with the raw data set.  We'll do the following:\n",
        "* Pull it from a bucket\n",
        "* Break into train, test and validation sets\n",
        "* Train a classifier"
      ]
    },
    {
      "attachments": {},
      "cell_type": "markdown",
      "metadata": {
        "id": "nRLomQ5ekAkE"
      },
      "source": [
        "## Download and Split the Data\n",
        "Let's download the data set and split it into training, validation and test sets."
      ]
    },
    {
      "cell_type": "code",
      "execution_count": null,
      "metadata": {
        "colab": {
          "base_uri": "https://localhost:8080/"
        },
        "id": "GHgXinwclEH2",
        "outputId": "ebf3a2c3-51fd-4e25-aa2b-61d21264a245"
      },
      "outputs": [],
      "source": [
        "!wget https://storage.googleapis.com/neo4j-datasets/form13/2021.csv"
      ]
    },
    {
      "cell_type": "code",
      "execution_count": null,
      "metadata": {
        "id": "tSxivpJUGgsK"
      },
      "outputs": [],
      "source": [
        "import pandas\n",
        "df = pandas.read_csv('2021.csv')\n",
        "\n",
        "df['split']=df['reportCalendarOrQuarter']\n",
        "df['split']=df['split'].replace(['03-31-2021', '06-30-2021', '09-30-2021'], ['TRAIN', 'VALIDATE', 'TEST'])\n",
        "\n",
        "df = df.drop(columns=['reportCalendarOrQuarter'])\n",
        "\n",
        "df.to_csv('raw.csv', index=False)"
      ]
    },
    {
      "attachments": {},
      "cell_type": "markdown",
      "metadata": {
        "id": "Id6tjQDbgf2S"
      },
      "source": [
        "## Setup Variables\n",
        "Now we need to set a few variables."
      ]
    },
    {
      "cell_type": "code",
      "execution_count": null,
      "metadata": {
        "id": "CvZqoRzdlu6m"
      },
      "outputs": [],
      "source": [
        "# Edit this variable!\n",
        "REGION = 'us-west1'\n",
        "\n",
        "# You can leave this as is\n",
        "shell_output = ! gcloud config list --format 'value(core.project)' 2>/dev/null\n",
        "PROJECT_ID = shell_output[0]\n",
        "\n",
        "STORAGE_BUCKET = PROJECT_ID + '-form13'"
      ]
    },
    {
      "attachments": {},
      "cell_type": "markdown",
      "metadata": {
        "id": "FUU7z4FjJS90"
      },
      "source": [
        "## Upload to a Google Cloud Storage Bucket\n",
        "\n",
        "To get the data into Vertex AI, we must first put it in a bucket as a CSV."
      ]
    },
    {
      "cell_type": "code",
      "execution_count": null,
      "metadata": {
        "id": "e3nbLg1cKJpJ"
      },
      "outputs": [],
      "source": [
        "from google.cloud import storage\n",
        "client = storage.Client()"
      ]
    },
    {
      "cell_type": "code",
      "execution_count": null,
      "metadata": {
        "id": "4dAkAU5ALnUo"
      },
      "outputs": [],
      "source": [
        "bucket = client.bucket(STORAGE_BUCKET)"
      ]
    },
    {
      "cell_type": "code",
      "execution_count": null,
      "metadata": {
        "id": "UTo7-_oJL_dZ"
      },
      "outputs": [],
      "source": [
        "filename = 'raw.csv'\n",
        "\n",
        "import os\n",
        "upload_path = os.path.join('form13', filename)\n",
        "blob = bucket.blob(upload_path)\n",
        "blob.upload_from_filename(filename)"
      ]
    },
    {
      "attachments": {},
      "cell_type": "markdown",
      "metadata": {
        "id": "ArK3cfKsdT1x"
      },
      "source": [
        "## Train a Model with Vertex AI AutoML\n",
        "We'll use the original features to train an AutoML model."
      ]
    },
    {
      "cell_type": "code",
      "execution_count": null,
      "metadata": {
        "colab": {
          "base_uri": "https://localhost:8080/"
        },
        "id": "KGjrD-k3dsCN",
        "outputId": "64698c1c-0acb-4a0b-de01-d97ccccc16bf"
      },
      "outputs": [],
      "source": [
        "from google.cloud import aiplatform\n",
        "\n",
        "aiplatform.init(project=PROJECT_ID, location=REGION)\n",
        "\n",
        "dataset = aiplatform.TabularDataset.create(\n",
        "    display_name=\"form13-raw\",\n",
        "    gcs_source=os.path.join(\"gs://\", STORAGE_BUCKET, 'form13', 'raw.csv'),\n",
        ")\n",
        "dataset.wait()\n",
        "\n",
        "print(f'\\tDataset: \"{dataset.display_name}\"')\n",
        "print(f'\\tname: \"{dataset.resource_name}\"')"
      ]
    },
    {
      "cell_type": "code",
      "execution_count": null,
      "metadata": {
        "id": "oaSPuk31N2xS"
      },
      "outputs": [],
      "source": [
        "job = aiplatform.AutoMLTabularTrainingJob(\n",
        "    display_name='form13-raw',\n",
        "    optimization_prediction_type='classification'\n",
        ")"
      ]
    },
    {
      "cell_type": "code",
      "execution_count": null,
      "metadata": {
        "colab": {
          "base_uri": "https://localhost:8080/"
        },
        "id": "Fqf44y_G8vi1",
        "outputId": "e6fe8d52-5919-44e0-ebab-f78c50ba9dbf"
      },
      "outputs": [],
      "source": [
        "model = job.run(\n",
        "    dataset=dataset,\n",
        "    target_column='target',\n",
        "    predefined_split_column_name='split',\n",
        "    model_display_name='form13-raw',\n",
        "    disable_early_stopping=False,\n",
        "    budget_milli_node_hours=1000,\n",
        ")"
      ]
    },
    {
      "cell_type": "markdown",
      "metadata": {
        "id": "kt03COEXxKOH"
      },
      "source": [
        "1000 milli node hours, or one node hour, is the minimum budget that Vertex AI allows.  However, Vertex AI isn't respecting that budget currently.  This job will probably run for two and a half hours.  \n",
        "\n",
        "We're going to move on while that runs.  You can check on the job later in the [Google Cloud Console](https://console.cloud.google.com/) to see the results.  There's a link to the specific job in the output of the cell above."
      ]
    }
  ],
  "metadata": {
    "colab": {
      "name": "vertex_ai_raw.ipynb",
      "provenance": [],
      "toc_visible": true
    },
    "kernelspec": {
      "display_name": "Python 3",
      "language": "python",
      "name": "python3"
    },
    "language_info": {
      "name": "python",
      "version": "3.9.6"
    },
    "vscode": {
      "interpreter": {
        "hash": "31f2aee4e71d21fbe5cf8b01ff0e069b9275f58929596ceb00d14d90e3e16cd6"
      }
    }
  },
  "nbformat": 4,
  "nbformat_minor": 0
}
