{
  "cells": [
    {
      "attachments": {},
      "cell_type": "markdown",
      "metadata": {
        "id": "JtcD7PrPzSqE"
      },
      "source": [
        "# Embedding\n",
        "We're going to generate a graph embedding using Neo4j Graph Data Science (GDS).  This will be an additional feature we can use to train our machine learning model later.\n",
        "\n",
        "## Install Prerequisites\n",
        "First off, you'll need to install the Neo4j Graph Data Science Package."
      ]
    },
    {
      "cell_type": "code",
      "execution_count": null,
      "metadata": {
        "colab": {
          "base_uri": "https://localhost:8080/"
        },
        "id": "qwKogqD_He_e",
        "outputId": "1cf05546-9d2d-464a-dd05-dae766b17c32"
      },
      "outputs": [],
      "source": [
        "%pip install --quiet --upgrade graphdatascience"
      ]
    },
    {
      "attachments": {},
      "cell_type": "markdown",
      "metadata": {
        "id": "IdMFRbqGzSqF"
      },
      "source": [
        "## Working with Neo4j\n",
        "You'll need to enter the credentials from your Neo4j instance below.  You can get these by running the command \":server connect\" in the Neo4j Browser.  The default DB_USER and DB_NAME are always neo4j."
      ]
    },
    {
      "cell_type": "code",
      "execution_count": null,
      "metadata": {
        "id": "P41l_P4zzSqF"
      },
      "outputs": [],
      "source": [
        "# Edit these variables!\n",
        "DB_URL = \"neo4j+s://179072b1.databases.neo4j.io:7687\"\n",
        "DB_PASS = \"Rtpkd5RvNXXeu_SUoDWEfSfZ3LjehgOq3A-sQv94h7c\"\n",
        "\n",
        "# You can leave these defaults\n",
        "DB_USER = \"neo4j\"\n",
        "DB_NAME = \"neo4j\""
      ]
    },
    {
      "cell_type": "code",
      "execution_count": null,
      "metadata": {},
      "outputs": [],
      "source": [
        "from graphdatascience import GraphDataScience\n",
        "gds = GraphDataScience(DB_URL, auth=(DB_USER, DB_PASS), aura_ds=True)"
      ]
    },
    {
      "cell_type": "markdown",
      "metadata": {
        "id": "ZtJy4eO_zSqF"
      },
      "source": [
        "First we're going to create an in memory graph represtation of the data in Neo4j Graph Data Science (GDS)."
      ]
    },
    {
      "cell_type": "code",
      "execution_count": null,
      "metadata": {
        "colab": {
          "base_uri": "https://localhost:8080/",
          "height": 81
        },
        "id": "URRShWv0zSqG",
        "outputId": "357bc172-113b-4947-8f54-bef385ed95e8"
      },
      "outputs": [],
      "source": [
        "result = gds.run_cypher(\n",
        "  \"\"\"\n",
        "    CALL gds.graph.project(\n",
        "      'mygraph',\n",
        "      ['Company', 'Manager', 'Holding'],\n",
        "      {\n",
        "          OWNS: {orientation: 'UNDIRECTED'},\n",
        "          PARTOF: {orientation: 'UNDIRECTED'}\n",
        "      }\n",
        "    )\n",
        "    YIELD\n",
        "      graphName AS graph,\n",
        "      relationshipProjection AS readProjection,\n",
        "      nodeCount AS nodes,\n",
        "      relationshipCount AS rels\n",
        "  \"\"\"\n",
        ")\n",
        "display(result)"
      ]
    },
    {
      "attachments": {},
      "cell_type": "markdown",
      "metadata": {},
      "source": [
        "Note, if you get an error saying the graph already exists, that's probably because you ran this code before. You can destroy it using this command:"
      ]
    },
    {
      "cell_type": "code",
      "execution_count": null,
      "metadata": {},
      "outputs": [],
      "source": [
        "result = gds.run_cypher(\n",
        "  \"\"\"\n",
        "    CALL gds.graph.drop('mygraph',false)\n",
        "  \"\"\"\n",
        ")\n",
        "display(result)"
      ]
    },
    {
      "cell_type": "markdown",
      "metadata": {
        "id": "ZnnO932bBexn"
      },
      "source": [
        "Now, let's list the details of the graph to make sure the projection was created as we want."
      ]
    },
    {
      "cell_type": "code",
      "execution_count": null,
      "metadata": {
        "colab": {
          "base_uri": "https://localhost:8080/",
          "height": 179
        },
        "id": "7ZBPLijbrSCt",
        "outputId": "26bfdf3a-11c7-4667-c023-bd354fca1285"
      },
      "outputs": [],
      "source": [
        "result = gds.run_cypher(\n",
        "  \"\"\"\n",
        "    CALL gds.graph.list()\n",
        "  \"\"\"\n",
        ")\n",
        "display(result)"
      ]
    },
    {
      "cell_type": "markdown",
      "metadata": {
        "id": "4pFaTeUSzSqG"
      },
      "source": [
        "Now we can generate an embedding from that graph. This is a new feature we can use in our predictions. We're using FastRP, which is a more full featured and higher performance of Node2Vec. You can learn more about that [here](https://neo4j.com/docs/graph-data-science/current/algorithms/fastrp/).\n",
        "\n",
        "There are a bunch of parameters we could adjust in this.  One of the most obvious is the embeddingDimension.  The documentation covers many more."
      ]
    },
    {
      "cell_type": "code",
      "execution_count": null,
      "metadata": {
        "colab": {
          "base_uri": "https://localhost:8080/",
          "height": 81
        },
        "id": "VVxhVtTq4Kfc",
        "outputId": "0c4ce36e-85b0-4678-f488-a398e73f5172"
      },
      "outputs": [],
      "source": [
        "result = gds.run_cypher(\n",
        "  \"\"\"\n",
        "  CALL gds.fastRP.mutate('mygraph',{\n",
        "    embeddingDimension: 16,\n",
        "    randomSeed: 1,\n",
        "    mutateProperty:'embedding'\n",
        "  })\n",
        "  \"\"\"\n",
        ")\n",
        "display(result)"
      ]
    },
    {
      "cell_type": "markdown",
      "metadata": {
        "id": "_GR9GCbFitFy"
      },
      "source": [
        "That creates an embedding for each node type.  However, we only want the embedding on the nodes of type holding.\n",
        "\n",
        "We're going to take the embedding from our projection and write it to the holding nodes in the underlying database."
      ]
    },
    {
      "cell_type": "code",
      "execution_count": null,
      "metadata": {
        "colab": {
          "base_uri": "https://localhost:8080/",
          "height": 81
        },
        "id": "C-EKqaR-inUe",
        "outputId": "2f3c560d-bb1e-4115-a01d-b01c24d2796a"
      },
      "outputs": [],
      "source": [
        "result = gds.run_cypher(\n",
        "  \"\"\"\n",
        "    CALL gds.graph.writeNodeProperties('mygraph', ['embedding'], ['Holding'])\n",
        "    YIELD writeMillis\n",
        "  \"\"\"\n",
        ")\n",
        "display(result)"
      ]
    },
    {
      "cell_type": "code",
      "execution_count": null,
      "metadata": {
        "colab": {
          "base_uri": "https://localhost:8080/",
          "height": 424
        },
        "id": "RLTjaLlMzSqH",
        "outputId": "3afc6eb1-c636-414c-9d38-0b72348f0290"
      },
      "outputs": [],
      "source": [
        "result = gds.run_cypher(\n",
        "  \"\"\"\n",
        "    MATCH (n:Holding) RETURN n\n",
        "  \"\"\"\n",
        ")\n",
        "display(result)"
      ]
    },
    {
      "cell_type": "markdown",
      "metadata": {
        "id": "IGeVDYfrCEZx"
      },
      "source": [
        "Note that this query will take 2-3 minutes to run as it's grabbing nearly half a million nodes along with all their properties and our new embedding."
      ]
    },
    {
      "cell_type": "code",
      "execution_count": null,
      "metadata": {
        "colab": {
          "base_uri": "https://localhost:8080/",
          "height": 641
        },
        "id": "WUpaQ69smfJ9",
        "outputId": "d1c7b9a8-b7d3-4189-bd54-0915016a5827"
      },
      "outputs": [],
      "source": [
        "import pandas as pd\n",
        "df = pd.DataFrame([dict(record.items()) for record in result['n']])\n",
        "df"
      ]
    },
    {
      "cell_type": "markdown",
      "metadata": {
        "id": "ND0BKcgNDPgH"
      },
      "source": [
        "Note that the embedding row is an array. To make this dataset more consumable, we should flatten that out into multiple individual features: embedding_0, embedding_1, ... embedding_n.\n"
      ]
    },
    {
      "cell_type": "code",
      "execution_count": null,
      "metadata": {
        "colab": {
          "base_uri": "https://localhost:8080/",
          "height": 835
        },
        "id": "W11q18eTC6-N",
        "outputId": "58b8834e-4130-45e4-9ad4-a009c280f017"
      },
      "outputs": [],
      "source": [
        "embeddings = pd.DataFrame(df['embedding'].values.tolist()).add_prefix(\"embedding_\")\n",
        "merged = df.drop(columns=['embedding']).merge(embeddings, left_index=True, right_index=True)\n",
        "merged"
      ]
    },
    {
      "cell_type": "markdown",
      "metadata": {
        "id": "_ooXlcpRbFd0"
      },
      "source": [
        "Now that we have the data formatted properly, let's split it into a training and a testing set and write those to disk."
      ]
    },
    {
      "cell_type": "code",
      "execution_count": null,
      "metadata": {
        "id": "UdPgEiDdDu-B"
      },
      "outputs": [],
      "source": [
        "df = merged\n",
        "\n",
        "df['split']=df['reportCalendarOrQuarter']\n",
        "df['split']=df['split'].replace(['03-31-2021', '06-30-2021', '09-30-2021'], ['TRAIN', 'VALIDATE', 'TEST'])\n",
        "\n",
        "df = df.drop(columns=['reportCalendarOrQuarter'])\n",
        "\n",
        "df.to_csv('embedding.csv', index=False)"
      ]
    },
    {
      "attachments": {},
      "cell_type": "markdown",
      "metadata": {
        "id": "Azb1inEVAC7f"
      },
      "source": [
        "## Upload to Google Cloud Storage\n",
        "Now let's write the file to Google Cloud Storage so we can use it in our model.  To do so, we must set a few environment variables.\n",
        "\n",
        "Edit the REGION variable below.  You'll want to be sure it matches the region where your notebook is running.\n",
        "\n",
        "The STORAGE_BUCKET is the name of a new bucket.  It must be globally unique.  It also needs to be all lower case."
      ]
    },
    {
      "cell_type": "code",
      "execution_count": null,
      "metadata": {},
      "outputs": [],
      "source": [
        "# Edit this variable!\n",
        "REGION = 'us-west1'\n",
        "\n",
        "# You can leave this as is\n",
        "shell_output = ! gcloud config list --format 'value(core.project)' 2>/dev/null\n",
        "PROJECT_ID = shell_output[0]\n",
        "\n",
        "STORAGE_BUCKET = PROJECT_ID + '-form13'"
      ]
    },
    {
      "cell_type": "code",
      "execution_count": null,
      "metadata": {
        "id": "mRKBGEi3AC7f"
      },
      "outputs": [],
      "source": [
        "from google.cloud import storage\n",
        "client = storage.Client()"
      ]
    },
    {
      "cell_type": "code",
      "execution_count": null,
      "metadata": {
        "colab": {
          "base_uri": "https://localhost:8080/"
        },
        "id": "q9Y4HhC3AC7f",
        "outputId": "68b351a7-5765-4c61-be7b-ae79f5d5ecfd"
      },
      "outputs": [],
      "source": [
        "bucket = client.bucket(STORAGE_BUCKET)\n",
        "bucket.create(location=REGION)"
      ]
    },
    {
      "cell_type": "code",
      "execution_count": null,
      "metadata": {
        "id": "h8_owAf-AC7g"
      },
      "outputs": [],
      "source": [
        "filename='embedding.csv'\n",
        "\n",
        "import os\n",
        "upload_path = os.path.join('form13', filename)\n",
        "blob = bucket.blob(upload_path)\n",
        "blob.upload_from_filename(filename)"
      ]
    }
  ],
  "metadata": {
    "colab": {
      "name": "embedding.ipynb",
      "provenance": [],
      "toc_visible": true
    },
    "kernelspec": {
      "display_name": "Python 3",
      "language": "python",
      "name": "python3"
    },
    "language_info": {
      "name": "python",
      "version": "3.9.6"
    },
    "vscode": {
      "interpreter": {
        "hash": "31f2aee4e71d21fbe5cf8b01ff0e069b9275f58929596ceb00d14d90e3e16cd6"
      }
    }
  },
  "nbformat": 4,
  "nbformat_minor": 0
}
