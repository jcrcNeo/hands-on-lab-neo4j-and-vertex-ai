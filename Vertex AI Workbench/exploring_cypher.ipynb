{
  "cells": [
    {
      "attachments": {},
      "cell_type": "markdown",
      "metadata": {
        "id": "JtcD7PrPzSqE"
      },
      "source": [
        "# Exploring Cypher\n",
        "First off, you'll also need to install a few packages."
      ]
    },
    {
      "cell_type": "code",
      "execution_count": null,
      "metadata": {
        "colab": {
          "base_uri": "https://localhost:8080/"
        },
        "id": "qwKogqD_He_e",
        "outputId": "3c216a45-7f6b-461b-ba75-fa5b9fef43e4"
      },
      "outputs": [],
      "source": [
        "%pip install --quiet --upgrade neo4j"
      ]
    },
    {
      "cell_type": "markdown",
      "metadata": {
        "id": "IdMFRbqGzSqF"
      },
      "source": [
        "You'll need to enter the credentials from your Neo4j instance below.  You can get these from the Neo4j Browser by running the command \":server connect\"\n",
        "\n",
        "The default DB_USER and DB_NAME are always neo4j."
      ]
    },
    {
      "cell_type": "code",
      "execution_count": null,
      "metadata": {
        "id": "P41l_P4zzSqF"
      },
      "outputs": [],
      "source": [
        "# Edit these variables!\n",
        "DB_URL = \"neo4j+s://179072b1.databases.neo4j.io:7687\"\n",
        "DB_PASS = \"Rtpkd5RvNXXeu_SUoDWEfSfZ3LjehgOq3A-sQv94h7c\"\n",
        "\n",
        "# You can leave these defaults\n",
        "DB_USER = \"neo4j\"\n",
        "DB_NAME = \"neo4j\""
      ]
    },
    {
      "cell_type": "code",
      "execution_count": null,
      "metadata": {
        "id": "8lUkSvmozSqF"
      },
      "outputs": [],
      "source": [
        "import pandas as pd\n",
        "from neo4j import GraphDatabase\n",
        "\n",
        "driver = GraphDatabase.driver(DB_URL, auth=(DB_USER, DB_PASS))"
      ]
    },
    {
      "cell_type": "markdown",
      "metadata": {
        "id": "XBcjHEc36H2h"
      },
      "source": [
        "Now that we're connected to the database, let's try running a few queries.  Earlier in the labs, we ran a query on the S&P 500 ETF, SPY.  Let's try it again on our new, indexed data set."
      ]
    },
    {
      "cell_type": "code",
      "execution_count": null,
      "metadata": {
        "colab": {
          "base_uri": "https://localhost:8080/",
          "height": 81
        },
        "id": "x0rllvhU6U5C",
        "outputId": "199aaccf-e046-4add-c0c0-2d46cb2749de"
      },
      "outputs": [],
      "source": [
        "with driver.session(database=DB_NAME) as session:\n",
        "  result = session.execute_read(\n",
        "    lambda tx: tx.run(\n",
        "      \"\"\"\n",
        "        MATCH (n:Company{cusip:\"78462F103\"}) RETURN n\n",
        "      \"\"\"\n",
        "    ).data()\n",
        "  )\n",
        "df = pd.DataFrame(result)\n",
        "display(df)"
      ]
    },
    {
      "cell_type": "markdown",
      "metadata": {
        "id": "wSAM6TMF6nhF"
      },
      "source": [
        "One result!  Looks like our indexing worked.  We can try other cypher queries as well.  But, let's try something new.\n",
        "\n",
        "Neo4j has a set of procedures which are analogous to stored procedures in the RDMS world.  Those are called Awesome Procedures on Cypher (APOC).\n",
        "\n",
        "Let's trying running Cypher through the APOC interface."
      ]
    },
    {
      "cell_type": "code",
      "execution_count": null,
      "metadata": {
        "colab": {
          "base_uri": "https://localhost:8080/",
          "height": 143
        },
        "id": "1xW_V4Hvo5T0",
        "outputId": "5e475077-bbb5-4a8a-bd00-4ab63e92d1d8"
      },
      "outputs": [],
      "source": [
        "# node labels\n",
        "with driver.session(database=DB_NAME) as session:\n",
        "  result = session.execute_read(\n",
        "    lambda tx: tx.run(\n",
        "      \"\"\"\n",
        "        CALL db.labels() YIELD label\n",
        "        CALL apoc.cypher.run('MATCH (:`'+label+'`) RETURN count(*) as freq', {})\n",
        "        YIELD value\n",
        "        RETURN label, value.freq AS freq\n",
        "      \"\"\"\n",
        "    ).data()\n",
        "  )\n",
        "df = pd.DataFrame(result)\n",
        "display(df)"
      ]
    },
    {
      "cell_type": "markdown",
      "metadata": {
        "id": "9-WtW2gc7dri"
      },
      "source": [
        "Note that this yieled us a usable dataframe rather than the embedded JSON blob we got by calling the raw cypher."
      ]
    },
    {
      "cell_type": "code",
      "execution_count": null,
      "metadata": {
        "colab": {
          "base_uri": "https://localhost:8080/",
          "height": 112
        },
        "id": "u-_izMZho6VM",
        "outputId": "865664f8-71a5-4ee1-fb5b-bd73423bab4b"
      },
      "outputs": [],
      "source": [
        "# relationship types\n",
        "with driver.session(database=DB_NAME) as session:\n",
        "    result = session.execute_read(\n",
        "        lambda tx: tx.run(\n",
        "            \"\"\"\n",
        "                CALL db.relationshipTypes() YIELD relationshipType as type\n",
        "                CALL apoc.cypher.run('MATCH ()-[:`'+type+'`]->() RETURN count(*) as freq', {})\n",
        "                YIELD value\n",
        "                RETURN type AS relationshipType, value.freq AS freq\n",
        "                ORDER by freq DESC\n",
        "            \"\"\"\n",
        "        ).data()\n",
        "    )\n",
        "df = pd.DataFrame(result)\n",
        "display(df)"
      ]
    },
    {
      "cell_type": "markdown",
      "metadata": {
        "id": "-wmA0aWG5Xhj"
      },
      "source": [
        "If you like, you can try creating your own queries as well."
      ]
    }
  ],
  "metadata": {
    "colab": {
      "name": "exploring_cypher.ipynb",
      "provenance": [],
      "toc_visible": true
    },
    "kernelspec": {
      "display_name": "Python 3",
      "language": "python",
      "name": "python3"
    },
    "language_info": {
      "name": "python",
      "version": "3.9.6"
    },
    "vscode": {
      "interpreter": {
        "hash": "31f2aee4e71d21fbe5cf8b01ff0e069b9275f58929596ceb00d14d90e3e16cd6"
      }
    }
  },
  "nbformat": 4,
  "nbformat_minor": 0
}
